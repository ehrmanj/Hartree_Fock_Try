{
 "cells": [
  {
   "cell_type": "markdown",
   "metadata": {},
   "source": [
    "## I'm trying to find Hartree Fock SCF Energies\n",
    "### It's been kinda difficult not gonna lie \n",
    "by Jordan Ehrman \n",
    "\n",
    "Relied heavily on: https://medium.com/analytics-vidhya/practical-introduction-to-hartree-fock-448fc64c107b -- I actually think they did it right. \n",
    "\n",
    "Comments are all mine though. It's not working right now (jun 25). It'll run, but the energies and predicted bond lengths are all messed up."
   ]
  },
  {
   "cell_type": "code",
   "execution_count": 1,
   "metadata": {},
   "outputs": [],
   "source": [
    "# Here I'm importing a bunch of stuff.\n",
    "# Numpy is used mostly to store things as arrays, \n",
    "# which allows me to take the norm of a vector and \n",
    "# easily subtract two lists, etc\n",
    "import numpy as np \n",
    "from numpy import *\n",
    "# And I think we only use scipy because it's easier to define the\n",
    "# Boys function as an error function than it is to define it as \n",
    "# an integral\n",
    "import scipy\n",
    "from scipy.special import erf"
   ]
  },
  {
   "cell_type": "code",
   "execution_count": 17,
   "metadata": {},
   "outputs": [],
   "source": [
    "# just defining the molecule. I don't have the coordinates here\n",
    "# because I want to put them in a for loop down below \n",
    "# -- I'll be satisfied with this when it can at least \n",
    "# predict a bond distance tbh. \n",
    "\n",
    "# The medium article had a little bit more lines in here, \n",
    "# but I think some of them were redundant. \n",
    "\n",
    "number_of_atoms = 2\n",
    "\n",
    "atoms = ['He','H']\n",
    "\n",
    "\n",
    "# this is the sum of the max quantum numbers of the atoms in my system.\n",
    "# if I wanted to generalize this, I'd put it in a loop. \n",
    "# But for now this is fine. \n",
    "B = 2\n",
    "\n",
    "# Number of electrons in the system. \n",
    "N = 2\n",
    "\n",
    "# nuclear charges. I... am not positive why the medium article uses these charges sometimes \n",
    "# and the zeta charges other times. Hopefully that'll click for me by the time I reach the end. \n",
    "charge_dict = {'H':1,'He':2}"
   ]
  },
  {
   "cell_type": "code",
   "execution_count": 24,
   "metadata": {},
   "outputs": [],
   "source": [
    "# Defining my basis set. Took the numbers from the medium article, which in turn \n",
    "# took them from either Szabo or Pople.\n",
    "\n",
    "STOnG = 3\n",
    "\n",
    "#at first I thought these were effective nuclear charges -- whoops! \n",
    "#These are factors that allows my sum of gaussians to \n",
    "#approximate slater orbitals well. \n",
    "zeta_dict = {'H':[1.24],'He':[2.0925]}\n",
    "\n",
    "max_quantum_number = {'H':1,'He':1}\n",
    "\n",
    "#Standard basis function for hydrogen, standard basis function for helium. Making \n",
    "#my gauss+gauss+gauss look as much like a slater as possible. \n",
    "D = np.array([[0.44635,0.535328,0.154329]])\n",
    "alpha = np.array([[0.109818,0.405771,2.22766]])"
   ]
  },
  {
   "cell_type": "code",
   "execution_count": 4,
   "metadata": {},
   "outputs": [],
   "source": [
    "# Okay, so gaussians can be defined using their center and their \n",
    "# exponent (which is a scalar factor multiplied by the 'r**2' in the\n",
    "# exponent part of the gaussian. Szabo calls it alpha -- are they alpha\n",
    "# in the gaussians and zeta in the slater always? Not to be confused with \n",
    "# effective nuclear charge zeta. \n",
    "def gauss_product(gauss_A, gauss_B):\n",
    "    Aalpha, Ra = gauss_A\n",
    "    Balpha, Rb = gauss_B\n",
    "    #if you multiply two exponential functions, the exponent gets summed.\n",
    "    #Szabo calls this p, so I'll call it P. \n",
    "    p = Aalpha + Balpha\n",
    "    #just the squared difference between the two centers. \n",
    "    diff = np.linalg.norm(Ra-Rb)**2\n",
    "    #So, this one looks different than the one in Szabo. The author of \n",
    "    #the medium article explains that he normalizes it in this step -- \n",
    "    #if it doesn't work out for me, this is one place I want to check  \n",
    "    #in desmos for mistakes\n",
    "    Norm = (4*Aalpha*Balpha/(pi**2))**0.75\n",
    "    # Actually completing the proportionality constant -- now renormalized.\n",
    "    K = Norm*exp(-Aalpha*Balpha/p*diff)\n",
    "    #The new center, straight from the book. \n",
    "    Rp = (Aalpha*Ra + Balpha*Rb)/p\n",
    "    return p, diff, K, Rp"
   ]
  },
  {
   "cell_type": "code",
   "execution_count": 5,
   "metadata": {},
   "outputs": [],
   "source": [
    "def overlap(A,B):\n",
    "    p, diff, K, Rp = gauss_product(A,B)\n",
    "    #this is straight from page 412 of Szabo. \n",
    "    return (pi/p)**1.5*K"
   ]
  },
  {
   "cell_type": "code",
   "execution_count": 6,
   "metadata": {},
   "outputs": [],
   "source": [
    "def kinetic(A,B):\n",
    "    #likewise straight from page 412.\n",
    "    p, diff, K, Rp = gauss_product(A, B)\n",
    "    Aalpha, Ra = A\n",
    "    Balpha, Rb = B\n",
    "    return Aalpha*Balpha/p*(3-2*Aalpha*Balpha/p*diff)*(pi/p)**1.5*K"
   ]
  },
  {
   "cell_type": "code",
   "execution_count": 7,
   "metadata": {},
   "outputs": [],
   "source": [
    "def Fo(t):\n",
    "    #I stole this format from medium, but it's on page 415 from szabo. \n",
    "    #The if else statement is to avoid errors from dividing by zero.\n",
    "    if t==0:\n",
    "        return 1\n",
    "    else:\n",
    "        return (0.5*(pi/t)**0.5)*erf(t**0.5)"
   ]
  },
  {
   "cell_type": "code",
   "execution_count": 8,
   "metadata": {},
   "outputs": [],
   "source": [
    "def potential(A,B,atom_idx):\n",
    "    #Also on 415 from szabo, but took the function from medium. \n",
    "    p,diff,K,Rp = gauss_product(A,B)\n",
    "    Rc = atom_coordinates[atom_idx]\n",
    "    Zc = charge_dict[atoms[atom_idx]]\n",
    "    #I will admit, I had a typo here. I fixed it, and it didn't solve my problem. \n",
    "    return (-2*pi*Zc/p)*K*Fo(p*(np.linalg.norm(Rp-Rc))**2)"
   ]
  },
  {
   "cell_type": "code",
   "execution_count": 9,
   "metadata": {},
   "outputs": [],
   "source": [
    "def multi(A,B,C,D):\n",
    "    #also 415 of szabo -- the two electron integral. \n",
    "    p, diff_ab, K_ab, Rp = gauss_product(A,B)\n",
    "    q, diff_cd, K_cd, Rq = gauss_product(C,D)\n",
    "    #took this from medium -- some vast simplifications he must've done using \n",
    "    #algebra. much prefer this to szabo's rendition. But, if all else fails, \n",
    "    #this may be where there's a mistake. \n",
    "    multi_prefactor = 2*pi**2.5*(p*q*(p+q)**0.5)**-1\n",
    "    return multi_prefactor*K_ab*K_cd*Fo(p*q/(p+q)*np.linalg.norm(Rp-Rq)**2)"
   ]
  },
  {
   "cell_type": "code",
   "execution_count": 10,
   "metadata": {},
   "outputs": [],
   "source": [
    "def SD_successive_density_matrix_elements(Ptilde,P):\n",
    "    #stolen from medium -- checking convergence by looping through elements\n",
    "    #of the density matrix and taking their root mean squared difference. \n",
    "    x=0\n",
    "    for i in range(B):\n",
    "        for j in range(B):\n",
    "            x += B**-2*(Ptilde[i,j]-P[i,j])**2\n",
    "    return x ** 0.5"
   ]
  },
  {
   "cell_type": "code",
   "execution_count": 11,
   "metadata": {},
   "outputs": [],
   "source": [
    "def get_nuclear_repulsion(): \n",
    "    #last function. It just tells you that the nuclear repulsion is \n",
    "    #equal to the product of the nuclear charges divided by their distance. \n",
    "    Nuc_repuls = 0 \n",
    "    for idx_a, A in enumerate(atoms):\n",
    "        for idx_b, B in enumerate(atoms):\n",
    "            if idx_a == idx_b:\n",
    "                continue\n",
    "            charge_A = charge_dict[A]\n",
    "            charge_B = charge_dict[B]\n",
    "            product = charge_A*charge_B\n",
    "            Ra = atom_coordinates[idx_a]\n",
    "            Rb = atom_coordinates[idx_b]\n",
    "            R = np.linalg.norm(Ra-Rb)\n",
    "            Nuc_repuls += product/R\n",
    "    return Nuc_repuls*0.5"
   ]
  },
  {
   "cell_type": "code",
   "execution_count": 29,
   "metadata": {},
   "outputs": [
    {
     "name": "stdout",
     "output_type": "stream",
     "text": [
      "adding0.19922832250000003to S(0,0) from exp,cont indices 0,0\n",
      "adding0.17705203745284656to S(0,0) from exp,cont indices 0,1\n",
      "adding0.0189643780484526to S(0,0) from exp,cont indices 0,2\n",
      "adding0.17705203745284656to S(0,0) from exp,cont indices 1,0\n",
      "adding0.28657606758399995to S(0,0) from exp,cont indices 1,1\n",
      "adding0.05069055118868471to S(0,0) from exp,cont indices 1,2\n",
      "adding0.0189643780484526to S(0,0) from exp,cont indices 2,0\n",
      "adding0.05069055118868471to S(0,0) from exp,cont indices 2,1\n",
      "adding0.023817440240999996to S(0,0) from exp,cont indices 2,2\n"
     ]
    }
   ],
   "source": [
    "listofenergies = []\n",
    "#for coordchanger in [coordman * 0.01 for coordman in range(5, 400)]:\n",
    "atom_coordinates = [np.array((0.0,0.0,0.0)),np.array((0.0,0.0, 1.4632))]\n",
    "#okay, I took a lot of this from medium, but I'm going to try to comment it up and \n",
    "#move things around as I see fit to make sure I get what this is getting at. \n",
    "#starting with empty overlap and core hamiltonian parts. \n",
    "S = np.zeros((B,B))\n",
    "T = np.zeros((B,B))\n",
    "V = np.zeros((B,B))\n",
    "multi_electron_tensor = np.zeros((B,B,B,B))\n",
    "#looping through atoms\n",
    "for idx_a, val_a in enumerate(atoms):\n",
    "    #getting charge and location of nucleus of atom a\n",
    "    Za = charge_dict[val_a]\n",
    "    Ra = atom_coordinates[idx_a]\n",
    "    #giving atom a an STO-3G orbital\n",
    "    for m in range(max_quantum_number[val_a]):\n",
    "        d_vec_m = D[m]\n",
    "        zeta = zeta_dict[val_a][m]\n",
    "        alpha_vec_m = alpha[m]*zeta**2\n",
    "    #three times... \n",
    "    for p in range(STOnG):\n",
    "        #for atom b...\n",
    "        for idx_b, val_b in enumerate(atoms):\n",
    "            #get nuclear charge and position \n",
    "            Zb = charge_dict[val_b]\n",
    "            Rb = atom_coordinates[idx_b]\n",
    "            for n in range(max_quantum_number[val_b]):\n",
    "                #give it an STO-3G orbital\n",
    "                d_vec_n = D[n]\n",
    "                zeta = zeta_dict[val_b][n]\n",
    "                alpha_vec_n = alpha[n]*zeta**2\n",
    "                for q in range(STOnG):\n",
    "                    a = (idx_a+1)*(m+1)-1\n",
    "                    b = (idx_b+1)*(n+1)-1\n",
    "                    #so here, we get the overlap matrix by taking the sum of the \n",
    "                    #overlaps of all nine combinations of gaussians. \n",
    "                    S[a,b] += d_vec_m[p]*d_vec_n[q]*overlap((alpha_vec_m[p],Ra),(alpha_vec_n[q],Rb))\n",
    "                    if (a==0 and b==0):\n",
    "                        print('adding' + str(d_vec_m[p]*d_vec_n[q]*overlap((alpha_vec_m[p],Ra),(alpha_vec_n[q],Rb)))+'to S(0,0) from exp,cont indices ' + str(p)+','+str(q))\n",
    "                    #and here, we do the same to get kinetic energy\n",
    "                    T[a,b] += d_vec_m[p]*d_vec_n[q]*kinetic((alpha_vec_m[p],Ra),(alpha_vec_n[q],Rb))\n",
    "\n",
    "                    for i in range(number_of_atoms):\n",
    "                    #and here, we do the same to get potential relative to each nucleus;\n",
    "                    #summing the two gives total potential\n",
    "                        V[a,b] += d_vec_m[p]*d_vec_n[q]*potential((alpha_vec_m[p],Ra),(alpha_vec_n[q],Rb),i)\n",
    "                    #loading up the multi electron tensor \n",
    "                    for idx_c, val_c in enumerate(atoms):\n",
    "                        #grabbing charge and location of third nuclei\n",
    "                        Zc = charge_dict[val_c]\n",
    "                        Rc = atom_coordinates[idx_c]\n",
    "                        for k in range(max_quantum_number[val_c]):\n",
    "                            #grabbing alpha and contraction coeff of third STO-3G \n",
    "                            d_vec_k = D[k]\n",
    "                            zeta = zeta_dict[val_c][k]\n",
    "                            alpha_vec_k = alpha[k]*zeta**2\n",
    "                            for r in range(STOnG):\n",
    "                                for idx_d, val_d in enumerate(atoms):\n",
    "                                    #grabbing charge and location of fourth nuclei\n",
    "                                    Zd = charge_dict[val_d]\n",
    "                                    Rd = atom_coordinates[idx_d]\n",
    "                                    for l in range(max_quantum_number[val_d]):\n",
    "                                        #grabbing alpha and contraction coeff of fourth STO-3G\n",
    "                                        d_vec_l = D[l]\n",
    "                                        zeta = zeta_dict[val_d][l]\n",
    "                                        alpha_vec_l = alpha[l]*zeta**2\n",
    "                                        for s in range(STOnG):\n",
    "                                            #indexing I stole from medium\n",
    "                                            c = (idx_c+1)*(k+1)-1\n",
    "                                            d = (idx_d+1)*(l+1)-1\n",
    "                                            #loading up the multi electron tensor\n",
    "                                            multi_electron_tensor[a,b,c,d] += d_vec_m[p]*d_vec_n[q]*d_vec_k[r]*d_vec_l[s]*(\n",
    "                                            multi((alpha_vec_m[p],Ra),\n",
    "                                                 (alpha_vec_n[q],Rb),\n",
    "                                                 (alpha_vec_k[r],Rc),\n",
    "                                                 (alpha_vec_l[s],Rd))\n",
    "                                            )"
   ]
  },
  {
   "cell_type": "code",
   "execution_count": 39,
   "metadata": {},
   "outputs": [
    {
     "name": "stdout",
     "output_type": "stream",
     "text": [
      "[[[[1.31389267 0.44007579]\n",
      "   [0.44007579 0.60918706]]\n",
      "\n",
      "  [[0.44007579 0.17858926]\n",
      "   [0.17858926 0.3138368 ]]]\n",
      "\n",
      "\n",
      " [[[0.44007579 0.17858926]\n",
      "   [0.17858926 0.3138368 ]]\n",
      "\n",
      "  [[0.60918706 0.3138368 ]\n",
      "   [0.3138368  0.77860306]]]]\n"
     ]
    }
   ],
   "source": [
    "print(multi_electron_tensor)"
   ]
  },
  {
   "cell_type": "code",
   "execution_count": null,
   "metadata": {},
   "outputs": [],
   "source": [
    "#we get the right symmetric orthogonalization transformation. \n",
    "#Szabo uses the canonical one, Medium uses the symmetric one, \n",
    "#so I'm going to try to make the symmetric one work for now. \n",
    "evalS,U = np.linalg.eig(S)\n",
    "diagS = dot(U.T,dot(S,U))\n",
    "diagS_minushalf = diag(diagonal(diagS)**-0.5)\n",
    "X = dot(U,dot(diagS_minushalf,U.T))"
   ]
  },
  {
   "cell_type": "code",
   "execution_count": 41,
   "metadata": {},
   "outputs": [
    {
     "data": {
      "text/plain": [
       "array([[ 1.08835493, -0.25950884],\n",
       "       [-0.25950884,  1.08835493]])"
      ]
     },
     "execution_count": 41,
     "metadata": {},
     "output_type": "execute_result"
    }
   ],
   "source": [
    "X\n",
    "#it matches the Xsymmetric from Szabo"
   ]
  },
  {
   "cell_type": "markdown",
   "metadata": {},
   "source": [
    "# okay, all the numbers match szabo up until this point. \n",
    "### or are within 1% difference anyways\n",
    "## somewhere in the SCF algorithm, something is going awry. I'm going to try to figure out where medium went wrong with this. "
   ]
  },
  {
   "cell_type": "code",
   "execution_count": null,
   "metadata": {},
   "outputs": [],
   "source": []
  },
  {
   "cell_type": "code",
   "execution_count": 53,
   "metadata": {},
   "outputs": [
    {
     "name": "stdout",
     "output_type": "stream",
     "text": [
      "*************************\n",
      "loop restarting\n",
      "*************************\n",
      "Gmat:  [[0. 0.]\n",
      " [0. 0.]]\n",
      "fockprime: [[-2.50531325 -0.45017609]\n",
      " [-0.45017609 -1.47314039]]\n",
      "coeffs: [[-0.93637294  0.35100672]\n",
      " [-0.35100672 -0.93637294]]\n",
      "eigens: [-2.67406528 -1.30438836]\n",
      "Coeffs of basis: [[-0.92801676  0.62501695]\n",
      " [-0.13902284 -1.11019545]]\n",
      "new P: [[1.72243023 0.25803106]\n",
      " [0.25803106 0.0386547 ]]\n",
      "threshold: 0.8805424667554685\n",
      "*************************\n",
      "loop restarting\n",
      "*************************\n",
      "Gmat:  [[1.26519374 0.37559333]\n",
      " [0.37559333 0.99150642]]\n",
      "fockprime: [[-1.15206105 -0.61736258]\n",
      " [-0.61736258 -0.4256439 ]]\n",
      "coeffs: [[-0.86806574  0.49644926]\n",
      " [-0.49644926 -0.86806574]]\n",
      "eigens: [-1.50513247 -0.07257248]\n",
      "Coeffs of basis: [[-0.81593066  0.76558373]\n",
      " [-0.31504228 -1.0735966 ]]\n",
      "new P: [[1.33148569 0.51410531]\n",
      " [0.51410531 0.19850327]]\n",
      "threshold: 0.27818035477053443\n",
      "*************************\n",
      "loop restarting\n",
      "*************************\n",
      "Gmat:  [[1.20416029 0.30525351]\n",
      " [0.30525351 0.93085212]]\n",
      "fockprime: [[-1.18870769 -0.67104908]\n",
      " [-0.67104908 -0.46186695]]\n",
      "coeffs: [[-0.85913263  0.51175299]\n",
      " [-0.51175299 -0.85913263]]\n",
      "eigens: [-1.58842639 -0.06214826]\n",
      "Coeffs of basis: [[-0.80223681  0.7799214 ]\n",
      " [-0.33401639 -1.06784566]]\n",
      "new P: [[1.28716781 0.53592048]\n",
      " [0.53592048 0.22313389]]\n",
      "threshold: 0.029675519197240523\n",
      "*************************\n",
      "loop restarting\n",
      "*************************\n",
      "Gmat:  [[1.19745143 0.29856606]\n",
      " [0.29856606 0.92424674]]\n",
      "fockprime: [[-1.19332171 -0.67566038]\n",
      " [-0.67566038 -0.46636538]]\n",
      "coeffs: [[-0.85841636  0.51295356]\n",
      " [-0.51295356 -0.85841636]]\n",
      "eigens: [-1.59706798 -0.06261911]\n",
      "Coeffs of basis: [[-0.8011457   0.78104217]\n",
      " [-0.33550891 -1.06737766]]\n",
      "new P: [[1.28366886 0.53758304]\n",
      " [0.53758304 0.22513246]]\n",
      "threshold: 0.0023326533076558995\n",
      "*************************\n",
      "loop restarting\n",
      "*************************\n",
      "Gmat:  [[1.19692349 0.29804874]\n",
      " [0.29804874 0.92372747]]\n",
      "fockprime: [[-1.19368981 -0.67601223]\n",
      " [-0.67601223 -0.46672378]]\n",
      "coeffs: [[-0.85836208  0.51304439]\n",
      " [-0.51304439 -0.85836208]]\n",
      "eigens: [-1.5977434  -0.06267019]\n",
      "Coeffs of basis: [[-0.80106305  0.78112693]\n",
      " [-0.33562185 -1.06734215]]\n",
      "new P: [[1.28340403 0.53770852]\n",
      " [0.53770852 0.22528405]]\n",
      "threshold: 0.00017649870639298762\n",
      "*************************\n",
      "loop restarting\n",
      "*************************\n",
      "Gmat:  [[1.19688355 0.29800965]\n",
      " [0.29800965 0.92368819]]\n",
      "fockprime: [[-1.19371769 -0.67603879]\n",
      " [-0.67603879 -0.46675093]]\n",
      "coeffs: [[-0.85835798  0.51305124]\n",
      " [-0.51305124 -0.85835798]]\n",
      "eigens: [-1.59779448 -0.06267414]\n",
      "Coeffs of basis: [[-0.80105682  0.78113333]\n",
      " [-0.33563037 -1.06733948]]\n",
      "new P: [[1.28338405 0.53771798]\n",
      " [0.53771798 0.22529548]]\n",
      "threshold: 1.3313890132753177e-05\n"
     ]
    }
   ],
   "source": [
    "P = np.zeros((B,B))\n",
    "P_previous = np.zeros((B,B))\n",
    "P_list = []\n",
    "threshold = 100\n",
    "while threshold > (10**-4): \n",
    "    print('*************************')\n",
    "    print('loop restarting')\n",
    "    print('*************************')\n",
    "    G = np.zeros((B,B))\n",
    "    for i in range(B):\n",
    "        for j in range(B):\n",
    "            for x in range(B):\n",
    "                for y in range(B):\n",
    "                    G[i,j] += P[x,y]*(multi_electron_tensor[i,j,y,x]-0.5*multi_electron_tensor[i,x,y,j])\n",
    "    print('Gmat: ', G)\n",
    "    Fock = Hcore+G\n",
    "    for i in range(B):\n",
    "        for j in range(B):\n",
    "            energy = 1/2 P[i,j]\n",
    "    Fockprime = dot(X.T,dot(Fock,X))\n",
    "    print('fockprime:', Fockprime)\n",
    "    evalFockprime, Cprime = np.linalg.eig(Fockprime)\n",
    "    print('coeffs:',Cprime)\n",
    "    print('eigens:',evalFockprime)\n",
    "    idx = evalFockprime.argsort()\n",
    "    evalFockprime = evalFockprime[idx]\n",
    "    Cprime = Cprime[:,idx]\n",
    "\n",
    "    C = dot(X,Cprime)\n",
    "    print('Coeffs of basis:', C)\n",
    "    for i in range(B):\n",
    "        for j in range(B):\n",
    "            for a in range(int(N/2)):\n",
    "                P[i,j] = 2*C[i,a]*C[j,a]\n",
    "    print('new P:', P)\n",
    "    P_list.append(P)\n",
    "    threshold = SD_successive_density_matrix_elements(P_previous,P)\n",
    "    print('threshold:',threshold)\n",
    "    P_previous = P.copy()"
   ]
  },
  {
   "cell_type": "code",
   "execution_count": null,
   "metadata": {},
   "outputs": [],
   "source": []
  },
  {
   "cell_type": "code",
   "execution_count": 13,
   "metadata": {},
   "outputs": [
    {
     "ename": "ValueError",
     "evalue": "x and y must have same first dimension, but have shapes (395,) and (1,)",
     "output_type": "error",
     "traceback": [
      "\u001b[0;31m---------------------------------------------------------------------------\u001b[0m",
      "\u001b[0;31mValueError\u001b[0m                                Traceback (most recent call last)",
      "\u001b[0;32m<ipython-input-13-19d211068c41>\u001b[0m in \u001b[0;36m<module>\u001b[0;34m\u001b[0m\n\u001b[1;32m     12\u001b[0m \u001b[0mplt\u001b[0m\u001b[0;34m.\u001b[0m\u001b[0mylabel\u001b[0m\u001b[0;34m(\u001b[0m\u001b[0;34m'Energy (au)'\u001b[0m\u001b[0;34m)\u001b[0m\u001b[0;34m\u001b[0m\u001b[0;34m\u001b[0m\u001b[0m\n\u001b[1;32m     13\u001b[0m \u001b[0;34m\u001b[0m\u001b[0m\n\u001b[0;32m---> 14\u001b[0;31m \u001b[0mplt\u001b[0m\u001b[0;34m.\u001b[0m\u001b[0mplot\u001b[0m\u001b[0;34m(\u001b[0m\u001b[0mx\u001b[0m\u001b[0;34m,\u001b[0m\u001b[0my\u001b[0m\u001b[0;34m,\u001b[0m\u001b[0;34m'o'\u001b[0m\u001b[0;34m,\u001b[0m\u001b[0mcolor\u001b[0m\u001b[0;34m=\u001b[0m\u001b[0;34m'black'\u001b[0m\u001b[0;34m)\u001b[0m\u001b[0;34m\u001b[0m\u001b[0;34m\u001b[0m\u001b[0m\n\u001b[0m",
      "\u001b[0;32m~/.local/lib/python3.8/site-packages/matplotlib/pyplot.py\u001b[0m in \u001b[0;36mplot\u001b[0;34m(scalex, scaley, data, *args, **kwargs)\u001b[0m\n\u001b[1;32m   2759\u001b[0m \u001b[0;34m@\u001b[0m\u001b[0mdocstring\u001b[0m\u001b[0;34m.\u001b[0m\u001b[0mcopy\u001b[0m\u001b[0;34m(\u001b[0m\u001b[0mAxes\u001b[0m\u001b[0;34m.\u001b[0m\u001b[0mplot\u001b[0m\u001b[0;34m)\u001b[0m\u001b[0;34m\u001b[0m\u001b[0;34m\u001b[0m\u001b[0m\n\u001b[1;32m   2760\u001b[0m \u001b[0;32mdef\u001b[0m \u001b[0mplot\u001b[0m\u001b[0;34m(\u001b[0m\u001b[0;34m*\u001b[0m\u001b[0margs\u001b[0m\u001b[0;34m,\u001b[0m \u001b[0mscalex\u001b[0m\u001b[0;34m=\u001b[0m\u001b[0;32mTrue\u001b[0m\u001b[0;34m,\u001b[0m \u001b[0mscaley\u001b[0m\u001b[0;34m=\u001b[0m\u001b[0;32mTrue\u001b[0m\u001b[0;34m,\u001b[0m \u001b[0mdata\u001b[0m\u001b[0;34m=\u001b[0m\u001b[0;32mNone\u001b[0m\u001b[0;34m,\u001b[0m \u001b[0;34m**\u001b[0m\u001b[0mkwargs\u001b[0m\u001b[0;34m)\u001b[0m\u001b[0;34m:\u001b[0m\u001b[0;34m\u001b[0m\u001b[0;34m\u001b[0m\u001b[0m\n\u001b[0;32m-> 2761\u001b[0;31m     return gca().plot(\n\u001b[0m\u001b[1;32m   2762\u001b[0m         *args, scalex=scalex, scaley=scaley, **({\"data\": data} if data\n\u001b[1;32m   2763\u001b[0m         is not None else {}), **kwargs)\n",
      "\u001b[0;32m~/.local/lib/python3.8/site-packages/matplotlib/axes/_axes.py\u001b[0m in \u001b[0;36mplot\u001b[0;34m(self, scalex, scaley, data, *args, **kwargs)\u001b[0m\n\u001b[1;32m   1645\u001b[0m         \"\"\"\n\u001b[1;32m   1646\u001b[0m         \u001b[0mkwargs\u001b[0m \u001b[0;34m=\u001b[0m \u001b[0mcbook\u001b[0m\u001b[0;34m.\u001b[0m\u001b[0mnormalize_kwargs\u001b[0m\u001b[0;34m(\u001b[0m\u001b[0mkwargs\u001b[0m\u001b[0;34m,\u001b[0m \u001b[0mmlines\u001b[0m\u001b[0;34m.\u001b[0m\u001b[0mLine2D\u001b[0m\u001b[0;34m)\u001b[0m\u001b[0;34m\u001b[0m\u001b[0;34m\u001b[0m\u001b[0m\n\u001b[0;32m-> 1647\u001b[0;31m         \u001b[0mlines\u001b[0m \u001b[0;34m=\u001b[0m \u001b[0;34m[\u001b[0m\u001b[0;34m*\u001b[0m\u001b[0mself\u001b[0m\u001b[0;34m.\u001b[0m\u001b[0m_get_lines\u001b[0m\u001b[0;34m(\u001b[0m\u001b[0;34m*\u001b[0m\u001b[0margs\u001b[0m\u001b[0;34m,\u001b[0m \u001b[0mdata\u001b[0m\u001b[0;34m=\u001b[0m\u001b[0mdata\u001b[0m\u001b[0;34m,\u001b[0m \u001b[0;34m**\u001b[0m\u001b[0mkwargs\u001b[0m\u001b[0;34m)\u001b[0m\u001b[0;34m]\u001b[0m\u001b[0;34m\u001b[0m\u001b[0;34m\u001b[0m\u001b[0m\n\u001b[0m\u001b[1;32m   1648\u001b[0m         \u001b[0;32mfor\u001b[0m \u001b[0mline\u001b[0m \u001b[0;32min\u001b[0m \u001b[0mlines\u001b[0m\u001b[0;34m:\u001b[0m\u001b[0;34m\u001b[0m\u001b[0;34m\u001b[0m\u001b[0m\n\u001b[1;32m   1649\u001b[0m             \u001b[0mself\u001b[0m\u001b[0;34m.\u001b[0m\u001b[0madd_line\u001b[0m\u001b[0;34m(\u001b[0m\u001b[0mline\u001b[0m\u001b[0;34m)\u001b[0m\u001b[0;34m\u001b[0m\u001b[0;34m\u001b[0m\u001b[0m\n",
      "\u001b[0;32m~/.local/lib/python3.8/site-packages/matplotlib/axes/_base.py\u001b[0m in \u001b[0;36m__call__\u001b[0;34m(self, *args, **kwargs)\u001b[0m\n\u001b[1;32m    214\u001b[0m                 \u001b[0mthis\u001b[0m \u001b[0;34m+=\u001b[0m \u001b[0margs\u001b[0m\u001b[0;34m[\u001b[0m\u001b[0;36m0\u001b[0m\u001b[0;34m]\u001b[0m\u001b[0;34m,\u001b[0m\u001b[0;34m\u001b[0m\u001b[0;34m\u001b[0m\u001b[0m\n\u001b[1;32m    215\u001b[0m                 \u001b[0margs\u001b[0m \u001b[0;34m=\u001b[0m \u001b[0margs\u001b[0m\u001b[0;34m[\u001b[0m\u001b[0;36m1\u001b[0m\u001b[0;34m:\u001b[0m\u001b[0;34m]\u001b[0m\u001b[0;34m\u001b[0m\u001b[0;34m\u001b[0m\u001b[0m\n\u001b[0;32m--> 216\u001b[0;31m             \u001b[0;32myield\u001b[0m \u001b[0;32mfrom\u001b[0m \u001b[0mself\u001b[0m\u001b[0;34m.\u001b[0m\u001b[0m_plot_args\u001b[0m\u001b[0;34m(\u001b[0m\u001b[0mthis\u001b[0m\u001b[0;34m,\u001b[0m \u001b[0mkwargs\u001b[0m\u001b[0;34m)\u001b[0m\u001b[0;34m\u001b[0m\u001b[0;34m\u001b[0m\u001b[0m\n\u001b[0m\u001b[1;32m    217\u001b[0m \u001b[0;34m\u001b[0m\u001b[0m\n\u001b[1;32m    218\u001b[0m     \u001b[0;32mdef\u001b[0m \u001b[0mget_next_color\u001b[0m\u001b[0;34m(\u001b[0m\u001b[0mself\u001b[0m\u001b[0;34m)\u001b[0m\u001b[0;34m:\u001b[0m\u001b[0;34m\u001b[0m\u001b[0;34m\u001b[0m\u001b[0m\n",
      "\u001b[0;32m~/.local/lib/python3.8/site-packages/matplotlib/axes/_base.py\u001b[0m in \u001b[0;36m_plot_args\u001b[0;34m(self, tup, kwargs)\u001b[0m\n\u001b[1;32m    340\u001b[0m \u001b[0;34m\u001b[0m\u001b[0m\n\u001b[1;32m    341\u001b[0m         \u001b[0;32mif\u001b[0m \u001b[0mx\u001b[0m\u001b[0;34m.\u001b[0m\u001b[0mshape\u001b[0m\u001b[0;34m[\u001b[0m\u001b[0;36m0\u001b[0m\u001b[0;34m]\u001b[0m \u001b[0;34m!=\u001b[0m \u001b[0my\u001b[0m\u001b[0;34m.\u001b[0m\u001b[0mshape\u001b[0m\u001b[0;34m[\u001b[0m\u001b[0;36m0\u001b[0m\u001b[0;34m]\u001b[0m\u001b[0;34m:\u001b[0m\u001b[0;34m\u001b[0m\u001b[0;34m\u001b[0m\u001b[0m\n\u001b[0;32m--> 342\u001b[0;31m             raise ValueError(f\"x and y must have same first dimension, but \"\n\u001b[0m\u001b[1;32m    343\u001b[0m                              f\"have shapes {x.shape} and {y.shape}\")\n\u001b[1;32m    344\u001b[0m         \u001b[0;32mif\u001b[0m \u001b[0mx\u001b[0m\u001b[0;34m.\u001b[0m\u001b[0mndim\u001b[0m \u001b[0;34m>\u001b[0m \u001b[0;36m2\u001b[0m \u001b[0;32mor\u001b[0m \u001b[0my\u001b[0m\u001b[0;34m.\u001b[0m\u001b[0mndim\u001b[0m \u001b[0;34m>\u001b[0m \u001b[0;36m2\u001b[0m\u001b[0;34m:\u001b[0m\u001b[0;34m\u001b[0m\u001b[0;34m\u001b[0m\u001b[0m\n",
      "\u001b[0;31mValueError\u001b[0m: x and y must have same first dimension, but have shapes (395,) and (1,)"
     ]
    },
    {
     "data": {
      "image/png": "[encoded data removed]",
      "text/plain": [
       "<Figure size 432x288 with 1 Axes>"
      ]
     },
     "metadata": {},
     "output_type": "display_data"
    }
   ],
   "source": [
    "%matplotlib inline \n",
    "import matplotlib.pyplot as plt\n",
    "plt.style.use('seaborn-whitegrid')\n",
    "\n",
    "evalFockprime[0]\n",
    "\n",
    "x = [coordman * 0.01 for coordman in range(5, 400)]\n",
    "y = listofenergies \n",
    "\n",
    "plt.title('He-H+ HOMO energy + nuc repulsion')\n",
    "plt.xlabel('Distance (au)')\n",
    "plt.ylabel('Energy (au)')\n",
    "\n",
    "plt.plot(x,y,'o',color='black')"
   ]
  },
  {
   "cell_type": "code",
   "execution_count": 43,
   "metadata": {},
   "outputs": [
    {
     "data": {
      "text/plain": [
       "-1.5977944798225119"
      ]
     },
     "execution_count": 43,
     "metadata": {},
     "output_type": "execute_result"
    }
   ],
   "source": [
    "evalFockprime[0]\n"
   ]
  },
  {
   "cell_type": "code",
   "execution_count": null,
   "metadata": {},
   "outputs": [],
   "source": []
  }
 ],
 "metadata": {
  "kernelspec": {
   "display_name": "Python 3",
   "language": "python",
   "name": "python3"
  },
  "language_info": {
   "codemirror_mode": {
    "name": "ipython",
    "version": 3
   },
   "file_extension": ".py",
   "mimetype": "text/x-python",
   "name": "python",
   "nbconvert_exporter": "python",
   "pygments_lexer": "ipython3",
   "version": "3.8.2"
  }
 },
 "nbformat": 4,
 "nbformat_minor": 4
}
