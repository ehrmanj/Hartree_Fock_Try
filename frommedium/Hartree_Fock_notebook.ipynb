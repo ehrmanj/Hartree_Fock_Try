{
 "cells": [
  {
   "cell_type": "code",
   "execution_count": 1,
   "metadata": {},
   "outputs": [],
   "source": [
    "# Imports \n",
    "\n",
    "import numpy as np\n",
    "from numpy import *\n",
    "import scipy\n",
    "from scipy.special import erf"
   ]
  },
  {
   "cell_type": "code",
   "execution_count": 5,
   "metadata": {},
   "outputs": [],
   "source": [
    "N_atoms = 2\n",
    "atoms = ['He','H']\n"
   ]
  },
  {
   "cell_type": "code",
   "execution_count": 6,
   "metadata": {},
   "outputs": [
    {
     "data": {
      "text/plain": [
       "['He', 'H']"
      ]
     },
     "execution_count": 6,
     "metadata": {},
     "output_type": "execute_result"
    }
   ],
   "source": [
    "atoms"
   ]
  },
  {
   "cell_type": "code",
   "execution_count": 7,
   "metadata": {},
   "outputs": [],
   "source": [
    "# Basis set variables\n",
    "\n",
    "# STO-nG (number of gaussians used to form a contracted gaussian orbital - pp153)\n",
    "STOnG = 3\n",
    "\n",
    "# Dictionary of zeta values (pp159-160, 170)\n",
    "zeta_dict = {'H': [1.24], 'He':[2.0925], 'Li':[2.69,0.80],'Be':[3.68,1.15],\n",
    "            'B':[4.68,1.50],'C':[5.67,1.72]}   #Put zeta number in list to accomodate for possibly more basis sets (eg 2s orbital)\n",
    "\n",
    "# Dictionary containing the max quantum number of each atom, \n",
    "# for a minimal basis STO-nG calculation\n",
    "max_quantum_number = {'H':1,'He':1,'Li':2,'Be':2,'C':2}\n",
    "\n",
    "\n",
    "# Gaussian contraction coefficients (pp157)\n",
    "# Going up to 2s orbital (W. J. Hehre, R. F. Stewart, and J. A. Pople. J. Chem. Phys. 51, 2657 (1969))\n",
    "# Row represents 1s, 2s etc...\n",
    "D = np.array([[0.444635, 0.535328, 0.154329],\n",
    "              [0.700115,0.399513,-0.0999672]])\n",
    "\n",
    "# Gaussian orbital exponents (pp153)\n",
    "# Going up to 2s orbital (W. J. Hehre, R. F. Stewart, and J. A. Pople. J. Chem. Phys. 51, 2657 (1969))\n",
    "alpha = np.array([[0.109818, 0.405771, 2.22766],\n",
    "                     [0.0751386,0.231031,0.994203]])\n",
    "\n",
    "# Basis set size\n",
    "B = 0\n",
    "for atom in atoms:\n",
    "    B += max_quantum_number[atom]"
   ]
  },
  {
   "cell_type": "code",
   "execution_count": 8,
   "metadata": {},
   "outputs": [],
   "source": [
    "# Other book-keeping\n",
    "\n",
    "# Number of electrons (Important!!)\n",
    "N = 2\n",
    "\n",
    "# Keep a dictionary of charges\n",
    "charge_dict = {'H': 1, 'He': 2, 'Li':3, 'Be':4,'B':5,'C':6,'N':7,'O':8,'F':9,'Ne':10}"
   ]
  },
  {
   "cell_type": "code",
   "execution_count": 9,
   "metadata": {},
   "outputs": [],
   "source": [
    "# Integrals between Gaussian orbitals (pp410)\n",
    "\n",
    "def gauss_product(gauss_A, gauss_B):\n",
    "    # The product of two Gaussians gives another Gaussian (pp411)\n",
    "    # Pass in the exponent and centre as a tuple\n",
    "    \n",
    "    a, Ra = gauss_A\n",
    "    b, Rb = gauss_B\n",
    "    p = a + b\n",
    "    diff = np.linalg.norm(Ra-Rb)**2             # squared difference of the two centres\n",
    "    N = (4*a*b/(pi**2))**0.75                   # Normalisation\n",
    "    K = N*exp(-a*b/p*diff)                      # New prefactor\n",
    "    Rp = (a*Ra + b*Rb)/p                        # New centre\n",
    "                     \n",
    "    return p, diff, K, Rp\n",
    "\n",
    "# Overlap integral (pp411)\n",
    "def overlap(A, B):\n",
    "    p, diff, K, Rp = gauss_product(A, B)\n",
    "    prefactor = (pi/p)**1.5\n",
    "    return prefactor*K\n",
    "\n",
    "# Kinetic integral (pp412)\n",
    "def kinetic(A,B):\n",
    "    p, diff, K, Rp = gauss_product(A, B)\n",
    "    prefactor = (pi/p)**1.5\n",
    "    \n",
    "    a, Ra = A\n",
    "    b, Rb = B    \n",
    "    reduced_exponent = a*b/p\n",
    "    return reduced_exponent*(3-2*reduced_exponent*diff)*prefactor*K\n",
    "\n",
    "\n",
    "# Fo function for calculating potential and e-e repulsion integrals.\n",
    "# Just a variant of the error function\n",
    "# pp414\n",
    "def Fo(t):\n",
    "    if t == 0:\n",
    "        return 1\n",
    "    else:\n",
    "        return (0.5*(pi/t)**0.5)*erf(t**0.5)\n",
    "\n",
    "\n",
    "# Nuclear-electron integral (pp412)\n",
    "def potential(A,B,atom_idx):\n",
    "    p,diff,K,Rp = gauss_product(A,B)\n",
    "    Rc = atom_coordinates[atom_idx] # Position of atom C\n",
    "    Zc = charge_dict[atoms[atom_idx]] # Charge of atom C\n",
    "    \n",
    "    \n",
    "    return (-2*pi*Zc/p)*K*Fo(p*np.linalg.norm(Rp-Rc)**2)\n",
    "\n",
    "# (ab|cd) integral (pp413)\n",
    "def multi(A,B,C,D):\n",
    "    p, diff_ab, K_ab, Rp = gauss_product(A,B)\n",
    "    q, diff_cd, K_cd, Rq = gauss_product(C,D)\n",
    "    multi_prefactor = 2*pi**2.5*(p*q*(p+q)**0.5)**-1\n",
    "    return multi_prefactor*K_ab*K_cd*Fo(p*q/(p+q)*np.linalg.norm(Rp-Rq)**2)"
   ]
  },
  {
   "cell_type": "code",
   "execution_count": 28,
   "metadata": {
    "scrolled": true
   },
   "outputs": [
    {
     "name": "stdout",
     "output_type": "stream",
     "text": [
      "alpha_vec_m:[0.48084429 1.77669115 9.75393462]\n",
      "alpha_vec_n:[0.48084429 1.77669115 9.75393462]\n",
      "alpha_vec_n:[0.16885616 0.62391349 3.42525002]\n",
      "alpha_vec_n:[0.48084429 1.77669115 9.75393462]\n",
      "alpha_vec_n:[0.16885616 0.62391349 3.42525002]\n",
      "alpha_vec_n:[0.48084429 1.77669115 9.75393462]\n",
      "alpha_vec_n:[0.16885616 0.62391349 3.42525002]\n",
      "alpha_vec_m:[0.16885616 0.62391349 3.42525002]\n",
      "alpha_vec_n:[0.48084429 1.77669115 9.75393462]\n",
      "alpha_vec_n:[0.16885616 0.62391349 3.42525002]\n",
      "alpha_vec_n:[0.48084429 1.77669115 9.75393462]\n",
      "alpha_vec_n:[0.16885616 0.62391349 3.42525002]\n",
      "alpha_vec_n:[0.48084429 1.77669115 9.75393462]\n",
      "alpha_vec_n:[0.16885616 0.62391349 3.42525002]\n"
     ]
    }
   ],
   "source": [
    "#listofenergies = []\n",
    "#for coordchanger in [coordman * 0.01 for coordman in range(5, 200)]:\n",
    "atom_coordinates = [np.array((0.0,0.0,0.0)),np.array((0.0,0.0, 1.4632))]\n",
    "# Initialise matrices\n",
    "S = np.zeros((B,B))\n",
    "T = np.zeros((B,B))\n",
    "V = np.zeros((B,B))\n",
    "multi_electron_tensor = np.zeros((B,B,B,B))\n",
    "\n",
    "\n",
    "# Iterate through atoms\n",
    "for idx_a, val_a in enumerate(atoms):\n",
    "\n",
    "    # For each atom, get the charge and centre\n",
    "    Za = charge_dict[val_a]\n",
    "    Ra = atom_coordinates[idx_a]\n",
    "\n",
    "    # Iterate through quantum numbers (1s, 2s etc)\n",
    "    for m in range(max_quantum_number[val_a]):\n",
    "\n",
    "        # For each quantum number, get the contraction\n",
    "        # coefficients, then get zeta,\n",
    "        # then scale the exponents accordingly (pp158)\n",
    "        d_vec_m = D[m]\n",
    "        zeta = zeta_dict[val_a][m]\n",
    "        alpha_vec_m = alpha[m]*zeta**2\n",
    "        print('alpha_vec_m:'+ str(alpha_vec_m))\n",
    "        # Iterate over the contraction coefficients\n",
    "        for p in range(STOnG):\n",
    "\n",
    "\n",
    "            # Iterate through atoms once again (more info in blog post)\n",
    "            for idx_b, val_b in enumerate(atoms):\n",
    "                Zb = charge_dict[val_b]\n",
    "                Rb = atom_coordinates[idx_b]\n",
    "                for n in range(max_quantum_number[val_b]):\n",
    "                    d_vec_n = D[n]\n",
    "                    zeta = zeta_dict[val_b][n]\n",
    "                    alpha_vec_n = alpha[n]*zeta**2\n",
    "                    print('alpha_vec_n:' + str(alpha_vec_n))\n",
    "                    for q in range(STOnG):\n",
    "\n",
    "\n",
    "                        # This indexing is explained in the blog post.\n",
    "                        # In short, it is due to Python indexing\n",
    "                        # starting at 0.\n",
    "\n",
    "                        a = (idx_a+1)*(m+1)-1\n",
    "                        b = (idx_b+1)*(n+1)-1\n",
    "\n",
    "                        # Generate the overlap, kinetic and potential matrices\n",
    "\n",
    "                        S[a,b] += d_vec_m[p]*d_vec_n[q]*overlap((alpha_vec_m[p],Ra),(alpha_vec_n[q],Rb))\n",
    "                        T[a,b] += d_vec_m[p]*d_vec_n[q]*kinetic((alpha_vec_m[p],Ra),(alpha_vec_n[q],Rb))\n",
    "\n",
    "                        for i in range(N_atoms):\n",
    "                            V[a,b] += d_vec_m[p]*d_vec_n[q]*potential((alpha_vec_m[p],Ra),(alpha_vec_n[q],Rb),i)\n",
    "\n",
    "\n",
    "                        # 2 more iterations to get the multi-electron-tensor\n",
    "                        for idx_c, val_c in enumerate(atoms):\n",
    "                            Zc = charge_dict[val_c]\n",
    "                            Rc = atom_coordinates[idx_c]\n",
    "                            for k in range(max_quantum_number[val_c]):\n",
    "                                d_vec_k = D[k]\n",
    "                                zeta = zeta_dict[val_c][k]\n",
    "                                alpha_vec_k = alpha[k]*zeta**2\n",
    "                                for r in range(STOnG):\n",
    "                                    for idx_d, val_d in enumerate(atoms):\n",
    "                                        Zd = charge_dict[val_d]\n",
    "                                        Rd = atom_coordinates[idx_d]\n",
    "                                        for l in range(max_quantum_number[val_d]):\n",
    "                                            d_vec_l = D[l]\n",
    "                                            zeta = zeta_dict[val_d][l]\n",
    "                                            alpha_vec_l = alpha[l]*zeta**2\n",
    "                                            for s in range(STOnG):\n",
    "                                                c = (idx_c+1)*(k+1)-1\n",
    "                                                d = (idx_d+1)*(l+1)-1\n",
    "                                                multi_electron_tensor[a,b,c,d] += d_vec_m[p]*d_vec_n[q]*d_vec_k[r]*d_vec_l[s]*(\n",
    "                                                multi((alpha_vec_m[p],Ra),\n",
    "                                                      (alpha_vec_n[q],Rb),\n",
    "                                                      (alpha_vec_k[r],Rc),\n",
    "                                                      (alpha_vec_l[s],Rd))\n",
    "                                                )\n",
    "\n",
    "\n",
    "\n",
    "\n",
    "\n",
    "\n",
    "# Form Hcore\n",
    "Hcore = T + V\n",
    "\n",
    "# Symmetric Orthogonalisation of basis (p144)\n",
    "\n",
    "evalS, U = np.linalg.eig(S)\n",
    "diagS = dot(U.T,dot(S,U))\n",
    "diagS_minushalf = diag(diagonal(diagS)**-0.5)\n",
    "X = dot(U,dot(diagS_minushalf,U.T))\n",
    "\n",
    "def SD_successive_density_matrix_elements(Ptilde,P):\n",
    "    x = 0\n",
    "    for i in range(B):\n",
    "        for j in range(B):\n",
    "            x += B**-2*(Ptilde[i,j]-P[i,j])**2\n",
    "\n",
    "    return x**0.5\n",
    "\n",
    "# Algorithm\n",
    "\n",
    "# Initial guess at P\n",
    "P = np.zeros((B,B))\n",
    "P_previous = np.zeros((B,B))\n",
    "P_list = []\n",
    "\n",
    "# Iterative process\n",
    "threshold = 100\n",
    "while threshold > 10**-4:\n",
    "\n",
    "    # Calculate Fock matrix with guess\n",
    "    G = np.zeros((B,B))\n",
    "    for i in range(B):\n",
    "        for j in range(B):\n",
    "            for x in range(B):\n",
    "                for y in range(B):\n",
    "                    G[i,j] += P[x,y]*(multi_electron_tensor[i,j,y,x]-0.5*multi_electron_tensor[i,x,y,j])    \n",
    "    Fock = Hcore + G\n",
    "\n",
    "    # Calculate Fock matrix in orthogonalised base\n",
    "    Fockprime = dot(X.T,dot(Fock, X))\n",
    "    evalFockprime, Cprime = np.linalg.eig(Fockprime)\n",
    "\n",
    "    #Correct ordering of eigenvalues and eigenvectors (starting from ground MO as first column of C, else we get the wrong P)\n",
    "    idx = evalFockprime.argsort()\n",
    "    evalFockprime = evalFockprime[idx]\n",
    "    Cprime = Cprime[:,idx]\n",
    "\n",
    "    C = dot(X,Cprime) \n",
    "\n",
    "    # Form new P (note, we only sum over electron pairs - we DON'T sum\n",
    "    # over the entire basis set. \n",
    "\n",
    "    for i in range(B):\n",
    "        for j in range(B):\n",
    "            for a in range(int(N/2)):\n",
    "                P[i,j] = 2*C[i,a]*C[j,a]\n",
    "\n",
    "\n",
    "    P_list.append(P)\n",
    "\n",
    "    threshold = SD_successive_density_matrix_elements(P_previous,P)\n",
    "    P_previous = P.copy()\n",
    "\n",
    "listofenergies.append((evalFockprime[0] + get_nuclear_repulsion()))"
   ]
  },
  {
   "cell_type": "code",
   "execution_count": 25,
   "metadata": {},
   "outputs": [
    {
     "name": "stdout",
     "output_type": "stream",
     "text": [
      "[[2.16431256 0.16701287]\n",
      " [0.16701287 0.76003294]]\n"
     ]
    }
   ],
   "source": [
    "print(T)"
   ]
  },
  {
   "cell_type": "code",
   "execution_count": 14,
   "metadata": {},
   "outputs": [],
   "source": [
    "# Nuclear repulsion\n",
    "def get_nuclear_repulsion():\n",
    "    Nuc_repuls = 0\n",
    "    for idx_a, A in enumerate(atoms):\n",
    "        for idx_b, B in enumerate(atoms):\n",
    "            if idx_a == idx_b:\n",
    "                continue\n",
    "            charge_A = charge_dict[A]\n",
    "            charge_B = charge_dict[B]\n",
    "            product = charge_A*charge_B\n",
    "            Ra = atom_coordinates[idx_a]\n",
    "            Rb = atom_coordinates[idx_b]\n",
    "            R = np.linalg.norm(Ra-Rb)\n",
    "            Nuc_repuls += product/R\n",
    "    return Nuc_repuls*0.5"
   ]
  },
  {
   "cell_type": "code",
   "execution_count": 18,
   "metadata": {},
   "outputs": [
    {
     "data": {
      "text/plain": [
       "[<matplotlib.lines.Line2D at 0x7f43c151e4c0>]"
      ]
     },
     "execution_count": 18,
     "metadata": {},
     "output_type": "execute_result"
    },
    {
     "data": {
      "image/png": "[encoded data removed]",
      "text/plain": [
       "<Figure size 432x288 with 1 Axes>"
      ]
     },
     "metadata": {},
     "output_type": "display_data"
    }
   ],
   "source": [
    "%matplotlib inline \n",
    "import matplotlib.pyplot as plt\n",
    "plt.style.use('seaborn-whitegrid')\n",
    "\n",
    "evalFockprime[0]\n",
    "\n",
    "x = [coordman * 0.01 for coordman in range(5, 200)]\n",
    "y = listofenergies \n",
    "\n",
    "plt.title('He-H+ HOMO energy + nuc repulsion')\n",
    "plt.xlabel('Distance (au)')\n",
    "plt.ylabel('Energy (au)')\n",
    "\n",
    "plt.plot(x,y,'o',color='black')"
   ]
  },
  {
   "cell_type": "code",
   "execution_count": 21,
   "metadata": {},
   "outputs": [
    {
     "data": {
      "text/plain": [
       "-1.5974477442856965"
      ]
     },
     "execution_count": 21,
     "metadata": {},
     "output_type": "execute_result"
    }
   ],
   "source": [
    "evalFockprime[0]\n"
   ]
  },
  {
   "cell_type": "code",
   "execution_count": 22,
   "metadata": {},
   "outputs": [
    {
     "data": {
      "text/plain": [
       "1.366867140513942"
      ]
     },
     "execution_count": 22,
     "metadata": {},
     "output_type": "execute_result"
    }
   ],
   "source": [
    "get_nuclear_repulsion()"
   ]
  },
  {
   "cell_type": "code",
   "execution_count": null,
   "metadata": {},
   "outputs": [],
   "source": []
  }
 ],
 "metadata": {
  "kernelspec": {
   "display_name": "Python 3",
   "language": "python",
   "name": "python3"
  },
  "language_info": {
   "codemirror_mode": {
    "name": "ipython",
    "version": 3
   },
   "file_extension": ".py",
   "mimetype": "text/x-python",
   "name": "python",
   "nbconvert_exporter": "python",
   "pygments_lexer": "ipython3",
   "version": "3.8.2"
  }
 },
 "nbformat": 4,
 "nbformat_minor": 2
}
